{
  "nbformat": 4,
  "nbformat_minor": 0,
  "metadata": {
    "colab": {
      "name": "Data Exploration_Python.ipynb",
      "provenance": []
    },
    "kernelspec": {
      "name": "python3",
      "display_name": "Python 3"
    },
    "language_info": {
      "name": "python"
    }
  },
  "cells": [
    {
      "cell_type": "markdown",
      "metadata": {
        "id": "tPab3VtjG7QC"
      },
      "source": [
        "Methuku Samhitha "
      ]
    },
    {
      "cell_type": "code",
      "metadata": {
        "id": "PV_2XrpNHCmQ"
      },
      "source": [
        "import pandas as pd"
      ],
      "execution_count": 21,
      "outputs": []
    },
    {
      "cell_type": "code",
      "metadata": {
        "colab": {
          "base_uri": "https://localhost:8080/"
        },
        "id": "-mYF4vbiHHv0",
        "outputId": "e02ba51a-e079-44ea-aad6-048dfdc8f486"
      },
      "source": [
        "from google.colab import drive\n",
        "drive.mount('/content/gdrive')"
      ],
      "execution_count": 22,
      "outputs": [
        {
          "output_type": "stream",
          "text": [
            "Drive already mounted at /content/gdrive; to attempt to forcibly remount, call drive.mount(\"/content/gdrive\", force_remount=True).\n"
          ],
          "name": "stdout"
        }
      ]
    },
    {
      "cell_type": "code",
      "metadata": {
        "id": "S0pJFeU-HLzx"
      },
      "source": [
        "DatasetBaseFolder = '/content/gdrive/MyDrive/ColabNotebooks/PandasTI/Datasets/'"
      ],
      "execution_count": 23,
      "outputs": []
    },
    {
      "cell_type": "code",
      "metadata": {
        "colab": {
          "base_uri": "https://localhost:8080/",
          "height": 195
        },
        "id": "HOo81IqSHlGD",
        "outputId": "f4c188e5-c115-49bc-b312-1639bb843297"
      },
      "source": [
        "df = pd.read_csv(DatasetBaseFolder+'Anual Balenced Sheet.csv')\n",
        "df.head()"
      ],
      "execution_count": 25,
      "outputs": [
        {
          "output_type": "execute_result",
          "data": {
            "text/html": [
              "<div>\n",
              "<style scoped>\n",
              "    .dataframe tbody tr th:only-of-type {\n",
              "        vertical-align: middle;\n",
              "    }\n",
              "\n",
              "    .dataframe tbody tr th {\n",
              "        vertical-align: top;\n",
              "    }\n",
              "\n",
              "    .dataframe thead th {\n",
              "        text-align: right;\n",
              "    }\n",
              "</style>\n",
              "<table border=\"1\" class=\"dataframe\">\n",
              "  <thead>\n",
              "    <tr style=\"text-align: right;\">\n",
              "      <th></th>\n",
              "      <th>Year</th>\n",
              "      <th>Institutional_sector_name</th>\n",
              "      <th>Institutional_sector_code</th>\n",
              "      <th>Descriptor</th>\n",
              "      <th>SNA08TRANS</th>\n",
              "      <th>Asset_liability_code</th>\n",
              "      <th>Status</th>\n",
              "      <th>Values</th>\n",
              "    </tr>\n",
              "  </thead>\n",
              "  <tbody>\n",
              "    <tr>\n",
              "      <th>0</th>\n",
              "      <td>2008.03</td>\n",
              "      <td>Corporate business enterprises</td>\n",
              "      <td>141</td>\n",
              "      <td>Capital Account Opening balances Produced non-...</td>\n",
              "      <td>LS00000</td>\n",
              "      <td>AN10000</td>\n",
              "      <td>REVISED</td>\n",
              "      <td>225544</td>\n",
              "    </tr>\n",
              "    <tr>\n",
              "      <th>1</th>\n",
              "      <td>2009.03</td>\n",
              "      <td>Corporate business enterprises</td>\n",
              "      <td>141</td>\n",
              "      <td>Capital Account Opening balances Produced non-...</td>\n",
              "      <td>LS00000</td>\n",
              "      <td>AN10000</td>\n",
              "      <td>REVISED</td>\n",
              "      <td>243315</td>\n",
              "    </tr>\n",
              "    <tr>\n",
              "      <th>2</th>\n",
              "      <td>2010.03</td>\n",
              "      <td>Corporate business enterprises</td>\n",
              "      <td>141</td>\n",
              "      <td>Capital Account Opening balances Produced non-...</td>\n",
              "      <td>LS00000</td>\n",
              "      <td>AN10000</td>\n",
              "      <td>REVISED</td>\n",
              "      <td>259381</td>\n",
              "    </tr>\n",
              "    <tr>\n",
              "      <th>3</th>\n",
              "      <td>2011.03</td>\n",
              "      <td>Corporate business enterprises</td>\n",
              "      <td>141</td>\n",
              "      <td>Capital Account Opening balances Produced non-...</td>\n",
              "      <td>LS00000</td>\n",
              "      <td>AN10000</td>\n",
              "      <td>REVISED</td>\n",
              "      <td>262596</td>\n",
              "    </tr>\n",
              "    <tr>\n",
              "      <th>4</th>\n",
              "      <td>2012.03</td>\n",
              "      <td>Corporate business enterprises</td>\n",
              "      <td>141</td>\n",
              "      <td>Capital Account Opening balances Produced non-...</td>\n",
              "      <td>LS00000</td>\n",
              "      <td>AN10000</td>\n",
              "      <td>REVISED</td>\n",
              "      <td>267100</td>\n",
              "    </tr>\n",
              "  </tbody>\n",
              "</table>\n",
              "</div>"
            ],
            "text/plain": [
              "      Year       Institutional_sector_name  ...   Status  Values\n",
              "0  2008.03  Corporate business enterprises  ...  REVISED  225544\n",
              "1  2009.03  Corporate business enterprises  ...  REVISED  243315\n",
              "2  2010.03  Corporate business enterprises  ...  REVISED  259381\n",
              "3  2011.03  Corporate business enterprises  ...  REVISED  262596\n",
              "4  2012.03  Corporate business enterprises  ...  REVISED  267100\n",
              "\n",
              "[5 rows x 8 columns]"
            ]
          },
          "metadata": {
            "tags": []
          },
          "execution_count": 25
        }
      ]
    },
    {
      "cell_type": "code",
      "metadata": {
        "colab": {
          "base_uri": "https://localhost:8080/"
        },
        "id": "Hgnxgw14Hrx9",
        "outputId": "c8e67c6b-3a02-4e2a-cb26-9ba569298256"
      },
      "source": [
        "##Shape\n",
        "df.shape"
      ],
      "execution_count": 26,
      "outputs": [
        {
          "output_type": "execute_result",
          "data": {
            "text/plain": [
              "(18720, 8)"
            ]
          },
          "metadata": {
            "tags": []
          },
          "execution_count": 26
        }
      ]
    },
    {
      "cell_type": "code",
      "metadata": {
        "id": "LwtPechzJ0Rf",
        "colab": {
          "base_uri": "https://localhost:8080/",
          "height": 284
        },
        "outputId": "2867ba0d-14f7-409d-9354-2f568f3955c5"
      },
      "source": [
        "#describe\n",
        "df.describe()"
      ],
      "execution_count": 27,
      "outputs": [
        {
          "output_type": "execute_result",
          "data": {
            "text/html": [
              "<div>\n",
              "<style scoped>\n",
              "    .dataframe tbody tr th:only-of-type {\n",
              "        vertical-align: middle;\n",
              "    }\n",
              "\n",
              "    .dataframe tbody tr th {\n",
              "        vertical-align: top;\n",
              "    }\n",
              "\n",
              "    .dataframe thead th {\n",
              "        text-align: right;\n",
              "    }\n",
              "</style>\n",
              "<table border=\"1\" class=\"dataframe\">\n",
              "  <thead>\n",
              "    <tr style=\"text-align: right;\">\n",
              "      <th></th>\n",
              "      <th>Year</th>\n",
              "      <th>Institutional_sector_code</th>\n",
              "    </tr>\n",
              "  </thead>\n",
              "  <tbody>\n",
              "    <tr>\n",
              "      <th>count</th>\n",
              "      <td>18720.000000</td>\n",
              "      <td>18720.000000</td>\n",
              "    </tr>\n",
              "    <tr>\n",
              "      <th>mean</th>\n",
              "      <td>2012.530000</td>\n",
              "      <td>260.722222</td>\n",
              "    </tr>\n",
              "    <tr>\n",
              "      <th>std</th>\n",
              "      <td>2.872358</td>\n",
              "      <td>144.607845</td>\n",
              "    </tr>\n",
              "    <tr>\n",
              "      <th>min</th>\n",
              "      <td>2008.030000</td>\n",
              "      <td>8.000000</td>\n",
              "    </tr>\n",
              "    <tr>\n",
              "      <th>25%</th>\n",
              "      <td>2010.030000</td>\n",
              "      <td>211.000000</td>\n",
              "    </tr>\n",
              "    <tr>\n",
              "      <th>50%</th>\n",
              "      <td>2012.530000</td>\n",
              "      <td>246.000000</td>\n",
              "    </tr>\n",
              "    <tr>\n",
              "      <th>75%</th>\n",
              "      <td>2015.030000</td>\n",
              "      <td>312.000000</td>\n",
              "    </tr>\n",
              "    <tr>\n",
              "      <th>max</th>\n",
              "      <td>2017.030000</td>\n",
              "      <td>611.000000</td>\n",
              "    </tr>\n",
              "  </tbody>\n",
              "</table>\n",
              "</div>"
            ],
            "text/plain": [
              "               Year  Institutional_sector_code\n",
              "count  18720.000000               18720.000000\n",
              "mean    2012.530000                 260.722222\n",
              "std        2.872358                 144.607845\n",
              "min     2008.030000                   8.000000\n",
              "25%     2010.030000                 211.000000\n",
              "50%     2012.530000                 246.000000\n",
              "75%     2015.030000                 312.000000\n",
              "max     2017.030000                 611.000000"
            ]
          },
          "metadata": {
            "tags": []
          },
          "execution_count": 27
        }
      ]
    },
    {
      "cell_type": "code",
      "metadata": {
        "colab": {
          "base_uri": "https://localhost:8080/"
        },
        "id": "jq80rbVFMXYS",
        "outputId": "0a84b7cb-491d-4ce6-e650-a0b94c679133"
      },
      "source": [
        "df.Institutional_sector_code.unique()"
      ],
      "execution_count": 31,
      "outputs": [
        {
          "output_type": "execute_result",
          "data": {
            "text/plain": [
              "array([141,  27, 281, 311, 312, 321, 411, 511,   8, 611, 121, 211, 221,\n",
              "       222, 231, 241, 251, 261])"
            ]
          },
          "metadata": {
            "tags": []
          },
          "execution_count": 31
        }
      ]
    },
    {
      "cell_type": "code",
      "metadata": {
        "colab": {
          "base_uri": "https://localhost:8080/"
        },
        "id": "wEwVAZ66N9Of",
        "outputId": "50884dc7-a055-4adb-c10a-68adcf73e8ed"
      },
      "source": [
        "df.Institutional_sector_code.value_counts()"
      ],
      "execution_count": 32,
      "outputs": [
        {
          "output_type": "execute_result",
          "data": {
            "text/plain": [
              "511    1040\n",
              "222    1040\n",
              "321    1040\n",
              "211    1040\n",
              "611    1040\n",
              "261    1040\n",
              "231    1040\n",
              "311    1040\n",
              "8      1040\n",
              "312    1040\n",
              "121    1040\n",
              "281    1040\n",
              "27     1040\n",
              "251    1040\n",
              "411    1040\n",
              "141    1040\n",
              "221    1040\n",
              "241    1040\n",
              "Name: Institutional_sector_code, dtype: int64"
            ]
          },
          "metadata": {
            "tags": []
          },
          "execution_count": 32
        }
      ]
    },
    {
      "cell_type": "code",
      "metadata": {
        "colab": {
          "base_uri": "https://localhost:8080/",
          "height": 106
        },
        "id": "sfylSti0OhNY",
        "outputId": "a41c72e9-e74b-4e86-bac9-a8048e62a97c"
      },
      "source": [
        "df.corr()"
      ],
      "execution_count": 33,
      "outputs": [
        {
          "output_type": "execute_result",
          "data": {
            "text/html": [
              "<div>\n",
              "<style scoped>\n",
              "    .dataframe tbody tr th:only-of-type {\n",
              "        vertical-align: middle;\n",
              "    }\n",
              "\n",
              "    .dataframe tbody tr th {\n",
              "        vertical-align: top;\n",
              "    }\n",
              "\n",
              "    .dataframe thead th {\n",
              "        text-align: right;\n",
              "    }\n",
              "</style>\n",
              "<table border=\"1\" class=\"dataframe\">\n",
              "  <thead>\n",
              "    <tr style=\"text-align: right;\">\n",
              "      <th></th>\n",
              "      <th>Year</th>\n",
              "      <th>Institutional_sector_code</th>\n",
              "    </tr>\n",
              "  </thead>\n",
              "  <tbody>\n",
              "    <tr>\n",
              "      <th>Year</th>\n",
              "      <td>1.000000e+00</td>\n",
              "      <td>6.582981e-18</td>\n",
              "    </tr>\n",
              "    <tr>\n",
              "      <th>Institutional_sector_code</th>\n",
              "      <td>6.582981e-18</td>\n",
              "      <td>1.000000e+00</td>\n",
              "    </tr>\n",
              "  </tbody>\n",
              "</table>\n",
              "</div>"
            ],
            "text/plain": [
              "                                   Year  Institutional_sector_code\n",
              "Year                       1.000000e+00               6.582981e-18\n",
              "Institutional_sector_code  6.582981e-18               1.000000e+00"
            ]
          },
          "metadata": {
            "tags": []
          },
          "execution_count": 33
        }
      ]
    }
  ]
}